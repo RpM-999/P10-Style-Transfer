{
 "cells": [
  {
   "cell_type": "code",
   "execution_count": 1,
   "id": "7391d0e9",
   "metadata": {},
   "outputs": [],
   "source": [
    "import torch\n",
    "import torch.nn as nn\n",
    "import torch.optim as optim\n",
    "from torch.utils.data import Dataset, DataLoader\n",
    "from torchvision.transforms import transforms\n",
    "from PIL import Image\n",
    "import os\n",
    "import numpy as np\n",
    "import matplotlib.pyplot as plt\n",
    "\n",
    "device = \"cuda\" if torch.cuda.is_available() else \"cpu\""
   ]
  },
  {
   "cell_type": "code",
   "execution_count": 2,
   "id": "5175faee",
   "metadata": {},
   "outputs": [
    {
     "data": {
      "text/plain": [
       "'cpu'"
      ]
     },
     "execution_count": 2,
     "metadata": {},
     "output_type": "execute_result"
    }
   ],
   "source": [
    "device"
   ]
  },
  {
   "cell_type": "markdown",
   "id": "3d638e77",
   "metadata": {},
   "source": [
    "\n",
    "#### ---**Kaggel File Structure**\n",
    "\n",
    "```\n",
    " training/\n",
    "  ├── 1/\n",
    "  │   ├── o.png  (Original)\n",
    "  │   └── g.png  (Gilbi)\n",
    "  ├── 2/\n",
    "  │   ├── o.png\n",
    "  │   └── g.png\n",
    "...\n",
    "```\n",
    "\n",
    "#### ---**Tranformed File Structure**\n",
    "\n",
    "```\n",
    "\n",
    "TRAINING/\n",
    "├── ORIGINAL-IMAGE/\n",
    "│   ├── 1.png\n",
    "│   ├── 2.png\n",
    "│   └── ...\n",
    "└── TARGET-IMAGE/\n",
    "    ├── 1.png\n",
    "    ├── 2.png\n",
    "    └── ...\n",
    "\n",
    "```"
   ]
  },
  {
   "cell_type": "code",
   "execution_count": null,
   "id": "051ea78e",
   "metadata": {},
   "outputs": [],
   "source": []
  }
 ],
 "metadata": {
  "kernelspec": {
   "display_name": "venv",
   "language": "python",
   "name": "python3"
  },
  "language_info": {
   "codemirror_mode": {
    "name": "ipython",
    "version": 3
   },
   "file_extension": ".py",
   "mimetype": "text/x-python",
   "name": "python",
   "nbconvert_exporter": "python",
   "pygments_lexer": "ipython3",
   "version": "3.12.0"
  }
 },
 "nbformat": 4,
 "nbformat_minor": 5
}

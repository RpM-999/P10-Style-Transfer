{
 "cells": [
  {
   "cell_type": "code",
   "execution_count": 1,
   "id": "7391d0e9",
   "metadata": {},
   "outputs": [],
   "source": [
    "import torch\n",
    "import torch.nn as nn\n",
    "import torch.optim as optim\n",
    "from torch.utils.data import Dataset, DataLoader\n",
    "from torchvision.transforms import transforms\n",
    "from PIL import Image\n",
    "import os\n",
    "import numpy as np\n",
    "import matplotlib.pyplot as plt\n",
    "import shutil\n",
    "\n",
    "device = \"cuda\" if torch.cuda.is_available() else \"cpu\""
   ]
  },
  {
   "cell_type": "code",
   "execution_count": 2,
   "id": "5175faee",
   "metadata": {},
   "outputs": [
    {
     "data": {
      "text/plain": [
       "'cpu'"
      ]
     },
     "execution_count": 2,
     "metadata": {},
     "output_type": "execute_result"
    }
   ],
   "source": [
    "device"
   ]
  },
  {
   "cell_type": "markdown",
   "id": "3d638e77",
   "metadata": {},
   "source": [
    "\n",
    "#### ---**Kaggel File Structure**\n",
    "\n",
    "```\n",
    " training/\n",
    "  ├── 1/\n",
    "  │   ├── o.png  (Original)\n",
    "  │   └── g.png  (Gilbi)\n",
    "  ├── 2/\n",
    "  │   ├── o.png\n",
    "  │   └── g.png\n",
    "...\n",
    "```\n",
    "\n",
    "#### ---**Tranformed File Structure**\n",
    "\n",
    "```\n",
    "\n",
    "training/\n",
    "├── ORIGINAL-IMAGE/\n",
    "│   ├── 1.png\n",
    "│   ├── 2.png\n",
    "│   └── ...\n",
    "└── TARGET-IMAGE/\n",
    "    ├── 1.png\n",
    "    ├── 2.png\n",
    "    └── ...\n",
    "\n",
    "```"
   ]
  },
  {
   "cell_type": "code",
   "execution_count": 3,
   "id": "051ea78e",
   "metadata": {},
   "outputs": [
    {
     "name": "stdout",
     "output_type": "stream",
     "text": [
      "Starting dataset transformation...\n",
      "\n",
      "Processing 'training' data...\n",
      "  ...Finished processing 140 pairs for 'training'.\n",
      "\n",
      "Processing 'testing' data...\n",
      "  ...Finished processing 60 pairs for 'testing'.\n",
      "\n",
      "Processing 'validation' data...\n",
      "  ...Finished processing 60 pairs for 'validation'.\n",
      "\n",
      "Dataset transformation complete!\n"
     ]
    }
   ],
   "source": [
    "SOURCE_BASE_PATH = 'Ghibli'\n",
    "DEST_BASE_PATH = 'Transformed-Dataset'\n",
    "\n",
    "print(\"Starting dataset transformation...\")\n",
    "\n",
    "for split in ['training', 'testing', 'validation']:\n",
    "    source_split_path = os.path.join(SOURCE_BASE_PATH, split)\n",
    "    dest_split_path = os.path.join(DEST_BASE_PATH, split)\n",
    "    \n",
    "    if not os.path.exists(source_split_path):\n",
    "        print(f\"Source folder not found: '{source_split_path}'. Skipping.\")\n",
    "        continue\n",
    "    if not os.path.exists(dest_split_path):\n",
    "        print(f\"Destination folder not found: '{dest_split_path}'. Skipping.\")\n",
    "        continue\n",
    "    \n",
    "    print(f\"\\nProcessing '{split}' data...\")\n",
    "    \n",
    "    dest_original_path = os.path.join(dest_split_path, 'original')\n",
    "    dest_target_path = os.path.join(dest_split_path, 'target')\n",
    "    \n",
    "\n",
    "    # Get the list of numbered pair folders (e.g., '1', '2', '3', ...)\n",
    "    pair_folders = sorted(os.listdir(source_split_path))\n",
    "\n",
    "    for folder_name in pair_folders:\n",
    "        source_folder_path = os.path.join(source_split_path, folder_name)\n",
    "\n",
    "        original_file = os.path.join(source_folder_path, 'o.png')\n",
    "        target_file = os.path.join(source_folder_path, 'g.png')\n",
    "\n",
    "        if os.path.exists(original_file) and os.path.exists(target_file):\n",
    "            # Define the new filenames (e.g., '1.png', '2.png')\n",
    "            new_filename = f\"{folder_name}.png\"\n",
    "\n",
    "            # Define the full destination paths\n",
    "            dest_original_file = os.path.join(dest_original_path, new_filename)\n",
    "            dest_target_file = os.path.join(dest_target_path, new_filename)\n",
    "\n",
    "            # Copy and rename the files\n",
    "            shutil.copyfile(original_file, dest_original_file)\n",
    "            shutil.copyfile(target_file, dest_target_file)\n",
    "        else:\n",
    "            print(f\"  - Warning: Skipping folder '{folder_name}' because 'o.png' or 'g.png' is missing.\")\n",
    "    \n",
    "    print(f\"  ...Finished processing {len(pair_folders)} pairs for '{split}'.\")\n",
    "\n",
    "print(\"\\nDataset transformation complete!\")\n",
    "\n",
    "\n"
   ]
  },
  {
   "cell_type": "code",
   "execution_count": null,
   "id": "cad82cca",
   "metadata": {},
   "outputs": [],
   "source": []
  }
 ],
 "metadata": {
  "kernelspec": {
   "display_name": "venv",
   "language": "python",
   "name": "python3"
  },
  "language_info": {
   "codemirror_mode": {
    "name": "ipython",
    "version": 3
   },
   "file_extension": ".py",
   "mimetype": "text/x-python",
   "name": "python",
   "nbconvert_exporter": "python",
   "pygments_lexer": "ipython3",
   "version": "3.12.0"
  }
 },
 "nbformat": 4,
 "nbformat_minor": 5
}
